{
  "nbformat": 4,
  "nbformat_minor": 0,
  "metadata": {
    "colab": {
      "provenance": [],
      "include_colab_link": true
    },
    "kernelspec": {
      "name": "python3",
      "display_name": "Python 3"
    },
    "language_info": {
      "name": "python"
    }
  },
  "cells": [
    {
      "cell_type": "markdown",
      "metadata": {
        "id": "view-in-github",
        "colab_type": "text"
      },
      "source": [
        "<a href=\"https://colab.research.google.com/github/LeeGyeongyong/Data-Analysis-with-Open-Source/blob/main/%EC%98%A4%ED%94%88%EC%86%8C%EC%8A%A4_%EB%8D%B0%EC%9D%B4%ED%84%B0_%EB%B6%84%EC%84%9D_4%EA%B0%95.ipynb\" target=\"_parent\"><img src=\"https://colab.research.google.com/assets/colab-badge.svg\" alt=\"Open In Colab\"/></a>"
      ]
    },
    {
      "cell_type": "markdown",
      "source": [
        "\n",
        "\n",
        "# 오픈소스 기반 데이터 분석 4강 - 데이터 수집\n"
      ],
      "metadata": {
        "id": "DkPKaAsoRq5Q"
      }
    },
    {
      "cell_type": "markdown",
      "source": [
        "## 4-1 CSV 파일 읽기"
      ],
      "metadata": {
        "id": "-I7BVVlnRrB0"
      }
    },
    {
      "cell_type": "code",
      "source": [
        "import pandas as pd\n",
        "\n",
        "## data.csv 파일 읽기\n",
        "df = pd.read_csv('data.csv', encoding = 'utf-8', sep = ',', header = 0,\n",
        "                 index_col = None, nrows = None)\n",
        "\n",
        "print(df)"
      ],
      "metadata": {
        "id": "2Y2HEiaiRwAI",
        "outputId": "40204d71-f966-4b13-8174-2ce181b6ddcc",
        "colab": {
          "base_uri": "https://localhost:8080/"
        }
      },
      "execution_count": null,
      "outputs": [
        {
          "output_type": "stream",
          "name": "stdout",
          "text": [
            "           날짜    체중  골격근량  체지방량\n",
            "0  2025.02.06  64.7  30.0  11.1\n",
            "1  2025.02.04  64.0  29.3  11.6\n"
          ]
        }
      ]
    },
    {
      "cell_type": "markdown",
      "source": [
        "## 4-2 JSON 파일 읽기\n",
        "\n"
      ],
      "metadata": {
        "id": "9kHCFaGlRrE0"
      }
    },
    {
      "cell_type": "code",
      "source": [
        "import json\n",
        "import pandas as pd\n",
        "\n",
        "## data.json 파일 출력\n",
        "with open('data.json', mode = 'r', encoding = 'utf=8') as f:\n",
        "    data = json.load(f)\n",
        "print(data)\n",
        "\n",
        "\n",
        "## data.json 파일 DataFrame 읽기\n",
        "df = pd.read_json('data.json', orient = 'records', encoding = 'utf-8',\n",
        "                  lines = False)\n",
        "print(df)"
      ],
      "metadata": {
        "id": "IO8bsKekR0W_",
        "outputId": "945ac0a3-63c9-4327-da06-86f972e6725d",
        "colab": {
          "base_uri": "https://localhost:8080/"
        }
      },
      "execution_count": null,
      "outputs": [
        {
          "output_type": "stream",
          "name": "stdout",
          "text": [
            "{'매출데이터': [{'월': '2025-01', '매출액': 1000000, '비용': 700000, '이익': 300000}, {'월': '2025-02', '매출액': 1200000, '비용': 800000, '이익': 400000}, {'월': '2025-03', '매출액': 1500000, '비용': 900000, '이익': 600000}]}\n",
            "                                               매출데이터\n",
            "0  {'월': '2025-01', '매출액': 1000000, '비용': 700000,...\n",
            "1  {'월': '2025-02', '매출액': 1200000, '비용': 800000,...\n",
            "2  {'월': '2025-03', '매출액': 1500000, '비용': 900000,...\n"
          ]
        }
      ]
    },
    {
      "cell_type": "markdown",
      "source": [
        "## 4-3 텍스트 파일 읽기 및 데이터 추출"
      ],
      "metadata": {
        "id": "uLd_3A_IRrHG"
      }
    },
    {
      "cell_type": "code",
      "source": [
        "import re\n",
        "\n",
        "## 파일(callcenter20250301.log) 오픈 및 읽기\n",
        "with open('callcenter20250301.log', 'r', encoding='utf-8') as f:\n",
        "    content = f.read()\n",
        "## 주민등록번호 패턴 생성\n",
        "pattern = re.compile(r'(\\d{6})-(\\d{7})')\n",
        "\n",
        "## 주민등록번호 마스킹\n",
        "masked_content = pattern.sub(r'\\1-*******', content)\n",
        "\n",
        "## 마스킹된 파일(callcenter20250301_masked.log) 오픈 및 쓰기\n",
        "with open('callcenter20250301_masked.log',mode = 'w', encoding = 'utf-8') as f:\n",
        "    f.write(masked_content)\n",
        "\n",
        "print(\"주민등록번호 마스킹 완료. 'callcenter20250301_masked.log.txt' 파일로 저장되었습니다.\")"
      ],
      "metadata": {
        "id": "60qOf7uxVdAg",
        "outputId": "cc791dde-96d5-4d41-8190-00885b0a5144",
        "colab": {
          "base_uri": "https://localhost:8080/"
        }
      },
      "execution_count": null,
      "outputs": [
        {
          "output_type": "stream",
          "name": "stdout",
          "text": [
            "주민등록번호 마스킹 완료. 'callcenter20250301_masked.log.txt' 파일로 저장되었습니다.\n"
          ]
        }
      ]
    },
    {
      "cell_type": "markdown",
      "source": [
        "## 4-4 Open-Meteo의 무료 날씨 API를 통한 특정 지역 온도 조회"
      ],
      "metadata": {
        "id": "eOMufu5SXiAU"
      }
    },
    {
      "cell_type": "code",
      "source": [
        "import requests\n",
        "import json\n",
        "\n",
        "url = \"https://api.open-meteo.com/v1/forecast?=&=&current=temperature_2m\"\n",
        "params = {\n",
        "    \"latitude\": \"37.58638333\",\n",
        "    \"longitude\": \"127.0203333\",\n",
        "    \"current\": \"temperature_2m\"\n",
        "}\n",
        "\n",
        "try:\n",
        "    ## URL 및 파라미터 전송\n",
        "    response = requests.get( url, params = params)\n",
        "    response.raise_for_status(  )\n",
        "\n",
        "    ## JSON 데이터 읽기\n",
        "    data = response.json()\n",
        "\n",
        "    print(\"API 응답:\", data)\n",
        "    print(\"서울시 종로구의 현재 온도는 : {0}{1} 입니다.\".format(data['current']['temperature_2m'], data['current_units']['temperature_2m']))\n",
        "\n",
        "except requests.exceptions.RequestException as e:\n",
        "    print(f\"API 호출 실패: {e}\")\n",
        "except json.JSONDecodeError as e:\n",
        "    print(f\"JSON 파싱 실패: {e}\")"
      ],
      "metadata": {
        "id": "JpmgdsW9V0CY",
        "outputId": "37a92503-3e69-4aac-b97f-39a3a84b7dd2",
        "colab": {
          "base_uri": "https://localhost:8080/"
        }
      },
      "execution_count": null,
      "outputs": [
        {
          "output_type": "stream",
          "name": "stdout",
          "text": [
            "API 응답: {'latitude': 37.6, 'longitude': 127.0, 'generationtime_ms': 0.02110004425048828, 'utc_offset_seconds': 0, 'timezone': 'GMT', 'timezone_abbreviation': 'GMT', 'elevation': 29.0, 'current_units': {'time': 'iso8601', 'interval': 'seconds', 'temperature_2m': '°C'}, 'current': {'time': '2025-09-08T05:30', 'interval': 900, 'temperature_2m': 26.5}}\n",
            "서울시 종로구의 현재 온도는 : 26.5°C 입니다.\n"
          ]
        }
      ]
    },
    {
      "cell_type": "markdown",
      "source": [
        "## 4-5 Selenium과 lxml을 이용한 웹 스크래핑"
      ],
      "metadata": {
        "id": "RLfPaa1ZiqIC"
      }
    },
    {
      "cell_type": "code",
      "source": [
        "!curl -o google-chrome-stable_current_amd64.deb https://dl.google.com/linux/direct/google-chrome-stable_current_amd64.deb\n",
        "!apt install ./google-chrome-stable_current_amd64.deb -y\n",
        "!pip install selenium webdriver_manager"
      ],
      "metadata": {
        "id": "79dmM7MNk8pB",
        "outputId": "fec19555-935f-4f5b-e8e2-0a1fb076492a",
        "colab": {
          "base_uri": "https://localhost:8080/"
        }
      },
      "execution_count": null,
      "outputs": [
        {
          "output_type": "stream",
          "name": "stdout",
          "text": [
            "  % Total    % Received % Xferd  Average Speed   Time    Time     Time  Current\n",
            "                                 Dload  Upload   Total   Spent    Left  Speed\n",
            "100  115M  100  115M    0     0  82.8M      0  0:00:01  0:00:01 --:--:-- 82.8M\n",
            "Reading package lists... Done\n",
            "Building dependency tree... Done\n",
            "Reading state information... Done\n",
            "Note, selecting 'google-chrome-stable' instead of './google-chrome-stable_current_amd64.deb'\n",
            "The following additional packages will be installed:\n",
            "  libvulkan1 mesa-vulkan-drivers\n",
            "The following NEW packages will be installed:\n",
            "  google-chrome-stable libvulkan1 mesa-vulkan-drivers\n",
            "0 upgraded, 3 newly installed, 0 to remove and 35 not upgraded.\n",
            "Need to get 10.9 MB/131 MB of archives.\n",
            "After this operation, 447 MB of additional disk space will be used.\n",
            "Get:1 http://archive.ubuntu.com/ubuntu jammy/main amd64 libvulkan1 amd64 1.3.204.1-2 [128 kB]\n",
            "Get:2 http://archive.ubuntu.com/ubuntu jammy-updates/main amd64 mesa-vulkan-drivers amd64 23.2.1-1ubuntu3.1~22.04.3 [10.7 MB]\n",
            "Get:3 /content/google-chrome-stable_current_amd64.deb google-chrome-stable amd64 140.0.7339.127-1 [121 MB]\n",
            "Fetched 10.9 MB in 2s (5,301 kB/s)\n",
            "Selecting previously unselected package libvulkan1:amd64.\n",
            "(Reading database ... 126374 files and directories currently installed.)\n",
            "Preparing to unpack .../libvulkan1_1.3.204.1-2_amd64.deb ...\n",
            "Unpacking libvulkan1:amd64 (1.3.204.1-2) ...\n",
            "Selecting previously unselected package google-chrome-stable.\n",
            "Preparing to unpack .../google-chrome-stable_current_amd64.deb ...\n",
            "Unpacking google-chrome-stable (140.0.7339.127-1) ...\n",
            "Selecting previously unselected package mesa-vulkan-drivers:amd64.\n",
            "Preparing to unpack .../mesa-vulkan-drivers_23.2.1-1ubuntu3.1~22.04.3_amd64.deb ...\n",
            "Unpacking mesa-vulkan-drivers:amd64 (23.2.1-1ubuntu3.1~22.04.3) ...\n",
            "Setting up libvulkan1:amd64 (1.3.204.1-2) ...\n",
            "Setting up mesa-vulkan-drivers:amd64 (23.2.1-1ubuntu3.1~22.04.3) ...\n",
            "Setting up google-chrome-stable (140.0.7339.127-1) ...\n",
            "update-alternatives: using /usr/bin/google-chrome-stable to provide /usr/bin/x-www-browser (x-www-browser) in auto mode\n",
            "update-alternatives: using /usr/bin/google-chrome-stable to provide /usr/bin/gnome-www-browser (gnome-www-browser) in auto mode\n",
            "update-alternatives: using /usr/bin/google-chrome-stable to provide /usr/bin/google-chrome (google-chrome) in auto mode\n",
            "Processing triggers for man-db (2.10.2-1) ...\n",
            "Processing triggers for mailcap (3.70+nmu1ubuntu1) ...\n",
            "Processing triggers for libc-bin (2.35-0ubuntu3.8) ...\n",
            "/sbin/ldconfig.real: /usr/local/lib/libur_loader.so.0 is not a symbolic link\n",
            "\n",
            "/sbin/ldconfig.real: /usr/local/lib/libur_adapter_opencl.so.0 is not a symbolic link\n",
            "\n",
            "/sbin/ldconfig.real: /usr/local/lib/libtcm.so.1 is not a symbolic link\n",
            "\n",
            "/sbin/ldconfig.real: /usr/local/lib/libur_adapter_level_zero.so.0 is not a symbolic link\n",
            "\n",
            "/sbin/ldconfig.real: /usr/local/lib/libumf.so.0 is not a symbolic link\n",
            "\n",
            "/sbin/ldconfig.real: /usr/local/lib/libtcm_debug.so.1 is not a symbolic link\n",
            "\n",
            "/sbin/ldconfig.real: /usr/local/lib/libtbbbind_2_0.so.3 is not a symbolic link\n",
            "\n",
            "/sbin/ldconfig.real: /usr/local/lib/libur_adapter_level_zero_v2.so.0 is not a symbolic link\n",
            "\n",
            "/sbin/ldconfig.real: /usr/local/lib/libtbbmalloc.so.2 is not a symbolic link\n",
            "\n",
            "/sbin/ldconfig.real: /usr/local/lib/libtbbbind.so.3 is not a symbolic link\n",
            "\n",
            "/sbin/ldconfig.real: /usr/local/lib/libtbb.so.12 is not a symbolic link\n",
            "\n",
            "/sbin/ldconfig.real: /usr/local/lib/libtbbmalloc_proxy.so.2 is not a symbolic link\n",
            "\n",
            "/sbin/ldconfig.real: /usr/local/lib/libtbbbind_2_5.so.3 is not a symbolic link\n",
            "\n",
            "/sbin/ldconfig.real: /usr/local/lib/libhwloc.so.15 is not a symbolic link\n",
            "\n",
            "Collecting selenium\n",
            "  Downloading selenium-4.35.0-py3-none-any.whl.metadata (7.4 kB)\n",
            "Collecting webdriver_manager\n",
            "  Downloading webdriver_manager-4.0.2-py2.py3-none-any.whl.metadata (12 kB)\n",
            "Requirement already satisfied: urllib3<3.0,>=2.5.0 in /usr/local/lib/python3.12/dist-packages (from urllib3[socks]<3.0,>=2.5.0->selenium) (2.5.0)\n",
            "Collecting trio~=0.30.0 (from selenium)\n",
            "  Downloading trio-0.30.0-py3-none-any.whl.metadata (8.5 kB)\n",
            "Collecting trio-websocket~=0.12.2 (from selenium)\n",
            "  Downloading trio_websocket-0.12.2-py3-none-any.whl.metadata (5.1 kB)\n",
            "Requirement already satisfied: certifi>=2025.6.15 in /usr/local/lib/python3.12/dist-packages (from selenium) (2025.8.3)\n",
            "Collecting typing_extensions~=4.14.0 (from selenium)\n",
            "  Downloading typing_extensions-4.14.1-py3-none-any.whl.metadata (3.0 kB)\n",
            "Requirement already satisfied: websocket-client~=1.8.0 in /usr/local/lib/python3.12/dist-packages (from selenium) (1.8.0)\n",
            "Requirement already satisfied: requests in /usr/local/lib/python3.12/dist-packages (from webdriver_manager) (2.32.4)\n",
            "Requirement already satisfied: python-dotenv in /usr/local/lib/python3.12/dist-packages (from webdriver_manager) (1.1.1)\n",
            "Requirement already satisfied: packaging in /usr/local/lib/python3.12/dist-packages (from webdriver_manager) (25.0)\n",
            "Requirement already satisfied: attrs>=23.2.0 in /usr/local/lib/python3.12/dist-packages (from trio~=0.30.0->selenium) (25.3.0)\n",
            "Requirement already satisfied: sortedcontainers in /usr/local/lib/python3.12/dist-packages (from trio~=0.30.0->selenium) (2.4.0)\n",
            "Requirement already satisfied: idna in /usr/local/lib/python3.12/dist-packages (from trio~=0.30.0->selenium) (3.10)\n",
            "Collecting outcome (from trio~=0.30.0->selenium)\n",
            "  Downloading outcome-1.3.0.post0-py2.py3-none-any.whl.metadata (2.6 kB)\n",
            "Requirement already satisfied: sniffio>=1.3.0 in /usr/local/lib/python3.12/dist-packages (from trio~=0.30.0->selenium) (1.3.1)\n",
            "Collecting wsproto>=0.14 (from trio-websocket~=0.12.2->selenium)\n",
            "  Downloading wsproto-1.2.0-py3-none-any.whl.metadata (5.6 kB)\n",
            "Requirement already satisfied: pysocks!=1.5.7,<2.0,>=1.5.6 in /usr/local/lib/python3.12/dist-packages (from urllib3[socks]<3.0,>=2.5.0->selenium) (1.7.1)\n",
            "Requirement already satisfied: charset_normalizer<4,>=2 in /usr/local/lib/python3.12/dist-packages (from requests->webdriver_manager) (3.4.3)\n",
            "Requirement already satisfied: h11<1,>=0.9.0 in /usr/local/lib/python3.12/dist-packages (from wsproto>=0.14->trio-websocket~=0.12.2->selenium) (0.16.0)\n",
            "Downloading selenium-4.35.0-py3-none-any.whl (9.6 MB)\n",
            "\u001b[2K   \u001b[90m━━━━━━━━━━━━━━━━━━━━━━━━━━━━━━━━━━━━━━━━\u001b[0m \u001b[32m9.6/9.6 MB\u001b[0m \u001b[31m65.4 MB/s\u001b[0m eta \u001b[36m0:00:00\u001b[0m\n",
            "\u001b[?25hDownloading webdriver_manager-4.0.2-py2.py3-none-any.whl (27 kB)\n",
            "Downloading trio-0.30.0-py3-none-any.whl (499 kB)\n",
            "\u001b[2K   \u001b[90m━━━━━━━━━━━━━━━━━━━━━━━━━━━━━━━━━━━━━━━━\u001b[0m \u001b[32m499.2/499.2 kB\u001b[0m \u001b[31m27.7 MB/s\u001b[0m eta \u001b[36m0:00:00\u001b[0m\n",
            "\u001b[?25hDownloading trio_websocket-0.12.2-py3-none-any.whl (21 kB)\n",
            "Downloading typing_extensions-4.14.1-py3-none-any.whl (43 kB)\n",
            "\u001b[2K   \u001b[90m━━━━━━━━━━━━━━━━━━━━━━━━━━━━━━━━━━━━━━━━\u001b[0m \u001b[32m43.9/43.9 kB\u001b[0m \u001b[31m2.8 MB/s\u001b[0m eta \u001b[36m0:00:00\u001b[0m\n",
            "\u001b[?25hDownloading outcome-1.3.0.post0-py2.py3-none-any.whl (10 kB)\n",
            "Downloading wsproto-1.2.0-py3-none-any.whl (24 kB)\n",
            "Installing collected packages: wsproto, typing_extensions, outcome, webdriver_manager, trio, trio-websocket, selenium\n",
            "  Attempting uninstall: typing_extensions\n",
            "    Found existing installation: typing_extensions 4.15.0\n",
            "    Uninstalling typing_extensions-4.15.0:\n",
            "      Successfully uninstalled typing_extensions-4.15.0\n",
            "Successfully installed outcome-1.3.0.post0 selenium-4.35.0 trio-0.30.0 trio-websocket-0.12.2 typing_extensions-4.14.1 webdriver_manager-4.0.2 wsproto-1.2.0\n"
          ]
        }
      ]
    },
    {
      "cell_type": "code",
      "source": [
        "from selenium import webdriver\n",
        "from selenium.webdriver.chrome.service import Service as ChromeService\n",
        "from webdriver_manager.chrome import ChromeDriverManager\n",
        "from selenium.webdriver.common.by import By\n",
        "from lxml import html\n",
        "import time\n",
        "\n",
        "chrome_options = webdriver.ChromeOptions()\n",
        "chrome_options.add_argument('--headless')               # 브라우저 창 없이 실행\n",
        "chrome_options.add_argument('--no-sandbox')             # 보안모드 비활성화 (Colab 필수)\n",
        "chrome_options.add_argument('--disable-dev-shm-usage')  # 메모리 부족 방지 (Colab 필수)\n",
        "chrome_options.add_argument('--window-size=1920x1080')  # 창 크기 설정(가상)\n",
        "chrome_options.add_argument('--disable-gpu')            # GPU 가속 비활성화 (일부 환경 안정성)\n",
        "chrome_options.binary_location = \"/usr/bin/google-chrome-stable\"  # Colab용 크롬 경로 지정\n",
        "\n",
        "## 드라이버 실행\n",
        "driver = webdriver.Chrome(options=chrome_options)\n",
        "\n",
        "## 사이트 접속\n",
        "url = 'https://professor.knou.ac.kr/jaehwachung/index.do'\n",
        "driver.get(url)\n",
        "\n",
        "## 사이트 접속 대기\n",
        "time.sleep(2)\n",
        "\n",
        "## 페이지 제목 출력\n",
        "page_source = driver.page_source\n",
        "tree = html.fromstring(page_source)\n",
        "\n",
        "try :\n",
        "    title_text = tree.xpath('//title/text()')\n",
        "    #print('웹페이지 제목(Xpath):', title_text[0] if title_text else'제목없음')\n",
        "    print(title_text)\n",
        "except Exception as e:\n",
        "          print(f'Xpath 추출실패:{e}')\n",
        "\n",
        "## 드라이버 종료\n",
        "driver.quit()\n"
      ],
      "metadata": {
        "id": "cRC8x3_iW0im",
        "outputId": "25a1a470-87fe-41d5-9c51-71992fae2b40",
        "colab": {
          "base_uri": "https://localhost:8080/"
        }
      },
      "execution_count": null,
      "outputs": [
        {
          "output_type": "stream",
          "name": "stdout",
          "text": [
            "['\\n\\t\\tAlert \\n\\t\\t\\n\\t']\n"
          ]
        }
      ]
    },
    {
      "cell_type": "markdown",
      "source": [],
      "metadata": {
        "id": "CHjQt5S-4Tgd"
      }
    },
    {
      "cell_type": "markdown",
      "source": [
        "\n",
        "# 실습 시나리오"
      ],
      "metadata": {
        "id": "Bu6OMZyGirOq"
      }
    },
    {
      "cell_type": "markdown",
      "source": [
        "## 공공데이터 포털 가입 및 데이터 신청\n",
        "\n",
        "- [https://www.data.go.kr](https://www.data.go.kr)\n",
        "- 한국환경공단 에어코리아 대기오염정보 데이터 신청"
      ],
      "metadata": {
        "id": "nsuqRN9RkZlW"
      }
    },
    {
      "cell_type": "code",
      "source": [
        "import requests\n",
        "\n",
        "## 데이터 수집 url 및 api key 설정\n",
        "url = ' http://apis.data.go.kr/B552584/ArpltnInforInqireSvc/getCtprvnRltmMesureDnsty'\n",
        "api_key = 'HH+mbrHQALE2UuDkUygMi+c2xKlF6r/ENEiA06GcgLrbzXljOVMC2oCm4GwzBGo7doxgRPjaShFMY9rm0ZrXHg=='\n",
        "params = {\n",
        "    'serviceKey': api_key,\n",
        "    'returnType': 'json',\n",
        "    'numOfRows': '100',\n",
        "    'pageNo': '1',\n",
        "    'sidoName': '서울',\n",
        "    'ver': '1.0'\n",
        "}\n",
        "\n",
        "## 데이터 수집\n",
        "response = requests.get(url, params = params)\n",
        "\n",
        "## 호출 성공/실패 출력\n",
        "print(response.json())\n"
      ],
      "metadata": {
        "id": "7yCozmQeXJcO",
        "outputId": "55325008-9e43-4144-856b-c25676b19035",
        "colab": {
          "base_uri": "https://localhost:8080/"
        }
      },
      "execution_count": null,
      "outputs": [
        {
          "output_type": "stream",
          "name": "stdout",
          "text": [
            "{'response': {'body': {'totalCount': 40, 'items': [{'so2Grade': '1', 'coFlag': None, 'khaiValue': '57', 'so2Value': '0.002', 'coValue': '0.3', 'pm25Flag': None, 'pm10Flag': None, 'o3Grade': '2', 'pm10Value': '6', 'khaiGrade': '2', 'pm25Value': '6', 'sidoName': '서울', 'no2Flag': None, 'no2Grade': '1', 'o3Flag': None, 'pm25Grade': '1', 'so2Flag': None, 'dataTime': '2025-09-13 21:00', 'coGrade': '1', 'no2Value': '0.014', 'stationName': '중구', 'pm10Grade': '1', 'o3Value': '0.037'}, {'so2Grade': '1', 'coFlag': None, 'khaiValue': '42', 'so2Value': '0.003', 'coValue': '0.4', 'pm25Flag': None, 'pm10Flag': None, 'o3Grade': '1', 'pm10Value': '8', 'khaiGrade': '1', 'pm25Value': '3', 'sidoName': '서울', 'no2Flag': None, 'no2Grade': '1', 'o3Flag': None, 'pm25Grade': '1', 'so2Flag': None, 'dataTime': '2025-09-13 21:00', 'coGrade': '1', 'no2Value': '0.013', 'stationName': '한강대로', 'pm10Grade': '1', 'o3Value': '0.025'}, {'so2Grade': '1', 'coFlag': None, 'khaiValue': '57', 'so2Value': '0.002', 'coValue': '0.3', 'pm25Flag': None, 'pm10Flag': None, 'o3Grade': '2', 'pm10Value': '5', 'khaiGrade': '2', 'pm25Value': '1', 'sidoName': '서울', 'no2Flag': None, 'no2Grade': '1', 'o3Flag': None, 'pm25Grade': '1', 'so2Flag': None, 'dataTime': '2025-09-13 21:00', 'coGrade': '1', 'no2Value': '0.011', 'stationName': '종로구', 'pm10Grade': '1', 'o3Value': '0.038'}, {'so2Grade': '1', 'coFlag': None, 'khaiValue': '-', 'so2Value': '0.002', 'coValue': '0.3', 'pm25Flag': '통신장애', 'pm10Flag': None, 'o3Grade': '2', 'pm10Value': '13', 'khaiGrade': None, 'pm25Value': '-', 'sidoName': '서울', 'no2Flag': None, 'no2Grade': '1', 'o3Flag': None, 'pm25Grade': None, 'so2Flag': None, 'dataTime': '2025-09-13 21:00', 'coGrade': '1', 'no2Value': '0.010', 'stationName': '청계천로', 'pm10Grade': '1', 'o3Value': '0.032'}, {'so2Grade': '1', 'coFlag': None, 'khaiValue': '-', 'so2Value': '0.002', 'coValue': '0.3', 'pm25Flag': '통신장애', 'pm10Flag': None, 'o3Grade': '1', 'pm10Value': '9', 'khaiGrade': None, 'pm25Value': '-', 'sidoName': '서울', 'no2Flag': None, 'no2Grade': '1', 'o3Flag': None, 'pm25Grade': None, 'so2Flag': None, 'dataTime': '2025-09-13 21:00', 'coGrade': '1', 'no2Value': '0.016', 'stationName': '종로', 'pm10Grade': '1', 'o3Value': '0.026'}, {'so2Grade': '1', 'coFlag': None, 'khaiValue': '54', 'so2Value': '0.002', 'coValue': '0.3', 'pm25Flag': None, 'pm10Flag': None, 'o3Grade': '2', 'pm10Value': '7', 'khaiGrade': '2', 'pm25Value': '1', 'sidoName': '서울', 'no2Flag': None, 'no2Grade': '1', 'o3Flag': None, 'pm25Grade': '1', 'so2Flag': None, 'dataTime': '2025-09-13 21:00', 'coGrade': '1', 'no2Value': '0.009', 'stationName': '용산구', 'pm10Grade': '1', 'o3Value': '0.034'}, {'so2Grade': '1', 'coFlag': None, 'khaiValue': '-', 'so2Value': '0.003', 'coValue': '0.3', 'pm25Flag': None, 'pm10Flag': None, 'o3Grade': '2', 'pm10Value': '6', 'khaiGrade': None, 'pm25Value': '1', 'sidoName': '서울', 'no2Flag': None, 'no2Grade': '1', 'o3Flag': None, 'pm25Grade': None, 'so2Flag': None, 'dataTime': '2025-09-13 21:00', 'coGrade': '1', 'no2Value': '0.008', 'stationName': '광진구', 'pm10Grade': '1', 'o3Value': '0.043'}, {'so2Grade': '1', 'coFlag': None, 'khaiValue': '-', 'so2Value': '0.002', 'coValue': '0.2', 'pm25Flag': None, 'pm10Flag': '통신장애', 'o3Grade': '2', 'pm10Value': '-', 'khaiGrade': None, 'pm25Value': '7', 'sidoName': '서울', 'no2Flag': None, 'no2Grade': '1', 'o3Flag': None, 'pm25Grade': '1', 'so2Flag': None, 'dataTime': '2025-09-13 21:00', 'coGrade': '1', 'no2Value': '0.008', 'stationName': '성동구', 'pm10Grade': None, 'o3Value': '0.038'}, {'so2Grade': '1', 'coFlag': None, 'khaiValue': '-', 'so2Value': '0.003', 'coValue': '0.3', 'pm25Flag': '통신장애', 'pm10Flag': None, 'o3Grade': '2', 'pm10Value': '5', 'khaiGrade': None, 'pm25Value': '-', 'sidoName': '서울', 'no2Flag': None, 'no2Grade': '1', 'o3Flag': None, 'pm25Grade': None, 'so2Flag': None, 'dataTime': '2025-09-13 21:00', 'coGrade': '1', 'no2Value': '0.005', 'stationName': '강변북로', 'pm10Grade': '1', 'o3Value': '0.039'}, {'so2Grade': '1', 'coFlag': None, 'khaiValue': '-', 'so2Value': '0.003', 'coValue': '0.2', 'pm25Flag': None, 'pm10Flag': None, 'o3Grade': '2', 'pm10Value': '7', 'khaiGrade': None, 'pm25Value': '1', 'sidoName': '서울', 'no2Flag': None, 'no2Grade': '1', 'o3Flag': None, 'pm25Grade': None, 'so2Flag': None, 'dataTime': '2025-09-13 21:00', 'coGrade': '1', 'no2Value': '0.006', 'stationName': '중랑구', 'pm10Grade': '1', 'o3Value': '0.036'}, {'so2Grade': '1', 'coFlag': None, 'khaiValue': '-', 'so2Value': '0.002', 'coValue': '0.3', 'pm25Flag': None, 'pm10Flag': None, 'o3Grade': '2', 'pm10Value': '9', 'khaiGrade': None, 'pm25Value': '3', 'sidoName': '서울', 'no2Flag': None, 'no2Grade': '1', 'o3Flag': None, 'pm25Grade': None, 'so2Flag': None, 'dataTime': '2025-09-13 21:00', 'coGrade': '1', 'no2Value': '0.012', 'stationName': '동대문구', 'pm10Grade': '1', 'o3Value': '0.033'}, {'so2Grade': '1', 'coFlag': None, 'khaiValue': '-', 'so2Value': '0.002', 'coValue': '0.3', 'pm25Flag': None, 'pm10Flag': None, 'o3Grade': '1', 'pm10Value': '10', 'khaiGrade': None, 'pm25Value': '3', 'sidoName': '서울', 'no2Flag': None, 'no2Grade': '1', 'o3Flag': None, 'pm25Grade': None, 'so2Flag': None, 'dataTime': '2025-09-13 21:00', 'coGrade': '1', 'no2Value': '0.017', 'stationName': '홍릉로', 'pm10Grade': '1', 'o3Value': '0.027'}, {'so2Grade': '1', 'coFlag': None, 'khaiValue': '46', 'so2Value': '0.003', 'coValue': '0.2', 'pm25Flag': None, 'pm10Flag': None, 'o3Grade': '1', 'pm10Value': '5', 'khaiGrade': '1', 'pm25Value': '4', 'sidoName': '서울', 'no2Flag': None, 'no2Grade': '1', 'o3Flag': None, 'pm25Grade': '1', 'so2Flag': None, 'dataTime': '2025-09-13 21:00', 'coGrade': '1', 'no2Value': '0.011', 'stationName': '성북구', 'pm10Grade': '1', 'o3Value': '0.028'}, {'so2Grade': '1', 'coFlag': None, 'khaiValue': '-', 'so2Value': '0.002', 'coValue': '0.3', 'pm25Flag': '통신장애', 'pm10Flag': None, 'o3Grade': '2', 'pm10Value': '10', 'khaiGrade': None, 'pm25Value': '-', 'sidoName': '서울', 'no2Flag': None, 'no2Grade': '1', 'o3Flag': None, 'pm25Grade': None, 'so2Flag': None, 'dataTime': '2025-09-13 21:00', 'coGrade': '1', 'no2Value': '0.013', 'stationName': '정릉로', 'pm10Grade': '1', 'o3Value': '0.034'}, {'so2Grade': '1', 'coFlag': None, 'khaiValue': '45', 'so2Value': '0.003', 'coValue': '0.3', 'pm25Flag': None, 'pm10Flag': None, 'o3Grade': '1', 'pm10Value': '8', 'khaiGrade': '1', 'pm25Value': '4', 'sidoName': '서울', 'no2Flag': None, 'no2Grade': '1', 'o3Flag': None, 'pm25Grade': '1', 'so2Flag': None, 'dataTime': '2025-09-13 21:00', 'coGrade': '1', 'no2Value': '0.009', 'stationName': '도봉구', 'pm10Grade': '1', 'o3Value': '0.027'}, {'so2Grade': '1', 'coFlag': None, 'khaiValue': '-', 'so2Value': '0.002', 'coValue': '0.3', 'pm25Flag': '통신장애', 'pm10Flag': None, 'o3Grade': '1', 'pm10Value': '8', 'khaiGrade': None, 'pm25Value': '-', 'sidoName': '서울', 'no2Flag': None, 'no2Grade': '1', 'o3Flag': None, 'pm25Grade': None, 'so2Flag': None, 'dataTime': '2025-09-13 21:00', 'coGrade': '1', 'no2Value': '0.006', 'stationName': '은평구', 'pm10Grade': '1', 'o3Value': '0.023'}, {'so2Grade': '1', 'coFlag': None, 'khaiValue': '-', 'so2Value': '0.003', 'coValue': '0.4', 'pm25Flag': None, 'pm10Flag': None, 'o3Grade': '2', 'pm10Value': '4', 'khaiGrade': None, 'pm25Value': '5', 'sidoName': '서울', 'no2Flag': None, 'no2Grade': '1', 'o3Flag': None, 'pm25Grade': '1', 'so2Flag': None, 'dataTime': '2025-09-13 21:00', 'coGrade': '1', 'no2Value': '0.006', 'stationName': '서대문구', 'pm10Grade': None, 'o3Value': '0.031'}, {'so2Grade': '1', 'coFlag': None, 'khaiValue': '-', 'so2Value': '0.002', 'coValue': '0.3', 'pm25Flag': None, 'pm10Flag': None, 'o3Grade': '2', 'pm10Value': '10', 'khaiGrade': None, 'pm25Value': '7', 'sidoName': '서울', 'no2Flag': None, 'no2Grade': '1', 'o3Flag': None, 'pm25Grade': None, 'so2Flag': None, 'dataTime': '2025-09-13 21:00', 'coGrade': '1', 'no2Value': '0.011', 'stationName': '마포구', 'pm10Grade': '1', 'o3Value': '0.035'}, {'so2Grade': '1', 'coFlag': None, 'khaiValue': '40', 'so2Value': '0.002', 'coValue': '0.4', 'pm25Flag': None, 'pm10Flag': None, 'o3Grade': '1', 'pm10Value': '16', 'khaiGrade': '1', 'pm25Value': '8', 'sidoName': '서울', 'no2Flag': None, 'no2Grade': '1', 'o3Flag': None, 'pm25Grade': '1', 'so2Flag': None, 'dataTime': '2025-09-13 21:00', 'coGrade': '1', 'no2Value': '0.016', 'stationName': '신촌로', 'pm10Grade': '1', 'o3Value': '0.024'}, {'so2Grade': '1', 'coFlag': None, 'khaiValue': '-', 'so2Value': '0.002', 'coValue': '0.4', 'pm25Flag': None, 'pm10Flag': None, 'o3Grade': '1', 'pm10Value': '20', 'khaiGrade': None, 'pm25Value': '14', 'sidoName': '서울', 'no2Flag': None, 'no2Grade': '1', 'o3Flag': None, 'pm25Grade': None, 'so2Flag': None, 'dataTime': '2025-09-13 21:00', 'coGrade': '1', 'no2Value': '0.012', 'stationName': '강서구', 'pm10Grade': '1', 'o3Value': '0.027'}, {'so2Grade': '1', 'coFlag': None, 'khaiValue': '-', 'so2Value': '0.002', 'coValue': '0.3', 'pm25Flag': None, 'pm10Flag': None, 'o3Grade': '1', 'pm10Value': '11', 'khaiGrade': None, 'pm25Value': '4', 'sidoName': '서울', 'no2Flag': None, 'no2Grade': '1', 'o3Flag': None, 'pm25Grade': None, 'so2Flag': None, 'dataTime': '2025-09-13 21:00', 'coGrade': '1', 'no2Value': '0.013', 'stationName': '공항대로', 'pm10Grade': '1', 'o3Value': '0.027'}, {'so2Grade': '1', 'coFlag': None, 'khaiValue': '47', 'so2Value': '0.002', 'coValue': '0.3', 'pm25Flag': None, 'pm10Flag': None, 'o3Grade': '1', 'pm10Value': '5', 'khaiGrade': '1', 'pm25Value': '3', 'sidoName': '서울', 'no2Flag': None, 'no2Grade': '1', 'o3Flag': None, 'pm25Grade': '1', 'so2Flag': None, 'dataTime': '2025-09-13 21:00', 'coGrade': '1', 'no2Value': '0.008', 'stationName': '구로구', 'pm10Grade': '1', 'o3Value': '0.028'}, {'so2Grade': '1', 'coFlag': None, 'khaiValue': '55', 'so2Value': '0.002', 'coValue': '0.3', 'pm25Flag': None, 'pm10Flag': None, 'o3Grade': '2', 'pm10Value': '13', 'khaiGrade': '2', 'pm25Value': '9', 'sidoName': '서울', 'no2Flag': None, 'no2Grade': '1', 'o3Flag': None, 'pm25Grade': '1', 'so2Flag': None, 'dataTime': '2025-09-13 21:00', 'coGrade': '1', 'no2Value': '0.012', 'stationName': '영등포구', 'pm10Grade': '1', 'o3Value': '0.034'}, {'so2Grade': '1', 'coFlag': None, 'khaiValue': '55', 'so2Value': '0.002', 'coValue': '0.3', 'pm25Flag': '통신장애', 'pm10Flag': None, 'o3Grade': '2', 'pm10Value': '9', 'khaiGrade': '2', 'pm25Value': '-', 'sidoName': '서울', 'no2Flag': None, 'no2Grade': '1', 'o3Flag': None, 'pm25Grade': None, 'so2Flag': None, 'dataTime': '2025-09-13 21:00', 'coGrade': '1', 'no2Value': '0.014', 'stationName': '영등포로', 'pm10Grade': '1', 'o3Value': '0.035'}, {'so2Grade': '1', 'coFlag': None, 'khaiValue': '59', 'so2Value': '0.002', 'coValue': '0.3', 'pm25Flag': None, 'pm10Flag': None, 'o3Grade': '2', 'pm10Value': '5', 'khaiGrade': '2', 'pm25Value': '4', 'sidoName': '서울', 'no2Flag': None, 'no2Grade': '1', 'o3Flag': None, 'pm25Grade': '1', 'so2Flag': None, 'dataTime': '2025-09-13 21:00', 'coGrade': '1', 'no2Value': '0.008', 'stationName': '동작구', 'pm10Grade': '1', 'o3Value': '0.040'}, {'so2Grade': '1', 'coFlag': None, 'khaiValue': '-', 'so2Value': '0.002', 'coValue': '0.4', 'pm25Flag': '통신장애', 'pm10Flag': None, 'o3Grade': '1', 'pm10Value': '7', 'khaiGrade': None, 'pm25Value': '-', 'sidoName': '서울', 'no2Flag': None, 'no2Grade': '1', 'o3Flag': None, 'pm25Grade': None, 'so2Flag': None, 'dataTime': '2025-09-13 21:00', 'coGrade': '1', 'no2Value': '0.020', 'stationName': '동작대로 중앙차로', 'pm10Grade': '1', 'o3Value': '0.028'}, {'so2Grade': '1', 'coFlag': None, 'khaiValue': '-', 'so2Value': '0.002', 'coValue': '0.2', 'pm25Flag': None, 'pm10Flag': None, 'o3Grade': '2', 'pm10Value': '8', 'khaiGrade': None, 'pm25Value': '2', 'sidoName': '서울', 'no2Flag': None, 'no2Grade': '1', 'o3Flag': None, 'pm25Grade': None, 'so2Flag': None, 'dataTime': '2025-09-13 21:00', 'coGrade': '1', 'no2Value': '0.008', 'stationName': '관악구', 'pm10Grade': '1', 'o3Value': '0.039'}, {'so2Grade': '1', 'coFlag': None, 'khaiValue': '-', 'so2Value': '0.002', 'coValue': '0.3', 'pm25Flag': None, 'pm10Flag': None, 'o3Grade': '2', 'pm10Value': '3', 'khaiGrade': None, 'pm25Value': '1', 'sidoName': '서울', 'no2Flag': None, 'no2Grade': '1', 'o3Flag': None, 'pm25Grade': None, 'so2Flag': None, 'dataTime': '2025-09-13 21:00', 'coGrade': '1', 'no2Value': '0.008', 'stationName': '강남구', 'pm10Grade': '1', 'o3Value': '0.037'}, {'so2Grade': '1', 'coFlag': None, 'khaiValue': '-', 'so2Value': '0.003', 'coValue': '0.3', 'pm25Flag': None, 'pm10Flag': None, 'o3Grade': '2', 'pm10Value': '3', 'khaiGrade': None, 'pm25Value': '1', 'sidoName': '서울', 'no2Flag': None, 'no2Grade': '1', 'o3Flag': None, 'pm25Grade': None, 'so2Flag': None, 'dataTime': '2025-09-13 21:00', 'coGrade': '1', 'no2Value': '0.007', 'stationName': '서초구', 'pm10Grade': '1', 'o3Value': '0.041'}, {'so2Grade': '1', 'coFlag': None, 'khaiValue': '-', 'so2Value': '0.003', 'coValue': '0.4', 'pm25Flag': None, 'pm10Flag': None, 'o3Grade': '2', 'pm10Value': '7', 'khaiGrade': None, 'pm25Value': '3', 'sidoName': '서울', 'no2Flag': None, 'no2Grade': '1', 'o3Flag': None, 'pm25Grade': None, 'so2Flag': None, 'dataTime': '2025-09-13 21:00', 'coGrade': '1', 'no2Value': '0.006', 'stationName': '도산대로', 'pm10Grade': '1', 'o3Value': '0.045'}, {'so2Grade': '1', 'coFlag': None, 'khaiValue': '40', 'so2Value': '0.001', 'coValue': '0.6', 'pm25Flag': '통신장애', 'pm10Flag': None, 'o3Grade': '1', 'pm10Value': '5', 'khaiGrade': '1', 'pm25Value': '-', 'sidoName': '서울', 'no2Flag': None, 'no2Grade': '1', 'o3Flag': None, 'pm25Grade': None, 'so2Flag': None, 'dataTime': '2025-09-13 21:00', 'coGrade': '1', 'no2Value': '0.019', 'stationName': '강남대로', 'pm10Grade': '1', 'o3Value': '0.024'}, {'so2Grade': '1', 'coFlag': None, 'khaiValue': '53', 'so2Value': '0.002', 'coValue': '0.3', 'pm25Flag': None, 'pm10Flag': None, 'o3Grade': '2', 'pm10Value': '7', 'khaiGrade': '2', 'pm25Value': '1', 'sidoName': '서울', 'no2Flag': None, 'no2Grade': '1', 'o3Flag': None, 'pm25Grade': '1', 'so2Flag': None, 'dataTime': '2025-09-13 21:00', 'coGrade': '1', 'no2Value': '0.013', 'stationName': '송파구', 'pm10Grade': '1', 'o3Value': '0.032'}, {'so2Grade': '1', 'coFlag': None, 'khaiValue': '56', 'so2Value': '0.002', 'coValue': '0.6', 'pm25Flag': None, 'pm10Flag': None, 'o3Grade': '2', 'pm10Value': '8', 'khaiGrade': '2', 'pm25Value': '3', 'sidoName': '서울', 'no2Flag': None, 'no2Grade': '1', 'o3Flag': None, 'pm25Grade': '1', 'so2Flag': None, 'dataTime': '2025-09-13 21:00', 'coGrade': '1', 'no2Value': '0.008', 'stationName': '강동구', 'pm10Grade': '1', 'o3Value': '0.036'}, {'so2Grade': '1', 'coFlag': None, 'khaiValue': '-', 'so2Value': '0.002', 'coValue': '0.3', 'pm25Flag': None, 'pm10Flag': None, 'o3Grade': '1', 'pm10Value': '8', 'khaiGrade': None, 'pm25Value': '3', 'sidoName': '서울', 'no2Flag': None, 'no2Grade': '1', 'o3Flag': None, 'pm25Grade': None, 'so2Flag': None, 'dataTime': '2025-09-13 21:00', 'coGrade': '1', 'no2Value': '0.014', 'stationName': '천호대로', 'pm10Grade': '1', 'o3Value': '0.028'}, {'so2Grade': '1', 'coFlag': None, 'khaiValue': '48', 'so2Value': '0.002', 'coValue': '0.3', 'pm25Flag': None, 'pm10Flag': None, 'o3Grade': '1', 'pm10Value': '7', 'khaiGrade': '1', 'pm25Value': '1', 'sidoName': '서울', 'no2Flag': None, 'no2Grade': '1', 'o3Flag': None, 'pm25Grade': '1', 'so2Flag': None, 'dataTime': '2025-09-13 21:00', 'coGrade': '1', 'no2Value': '0.011', 'stationName': '금천구', 'pm10Grade': '1', 'o3Value': '0.029'}, {'so2Grade': '1', 'coFlag': None, 'khaiValue': '47', 'so2Value': '0.002', 'coValue': '0.5', 'pm25Flag': None, 'pm10Flag': None, 'o3Grade': '1', 'pm10Value': '10', 'khaiGrade': '1', 'pm25Value': '3', 'sidoName': '서울', 'no2Flag': None, 'no2Grade': '1', 'o3Flag': None, 'pm25Grade': '1', 'so2Flag': None, 'dataTime': '2025-09-13 21:00', 'coGrade': '1', 'no2Value': '0.028', 'stationName': '시흥대로', 'pm10Grade': '1', 'o3Value': '0.023'}, {'so2Grade': '1', 'coFlag': None, 'khaiValue': '37', 'so2Value': '0.002', 'coValue': '0.2', 'pm25Flag': None, 'pm10Flag': None, 'o3Grade': '1', 'pm10Value': '13', 'khaiGrade': '1', 'pm25Value': '2', 'sidoName': '서울', 'no2Flag': None, 'no2Grade': '1', 'o3Flag': None, 'pm25Grade': '1', 'so2Flag': None, 'dataTime': '2025-09-13 21:00', 'coGrade': '1', 'no2Value': '0.005', 'stationName': '강북구', 'pm10Grade': '1', 'o3Value': '0.022'}, {'so2Grade': '1', 'coFlag': None, 'khaiValue': '57', 'so2Value': '0.002', 'coValue': '0.3', 'pm25Flag': None, 'pm10Flag': None, 'o3Grade': '2', 'pm10Value': '9', 'khaiGrade': '2', 'pm25Value': '4', 'sidoName': '서울', 'no2Flag': None, 'no2Grade': '1', 'o3Flag': None, 'pm25Grade': '1', 'so2Flag': None, 'dataTime': '2025-09-13 21:00', 'coGrade': '1', 'no2Value': '0.010', 'stationName': '양천구', 'pm10Grade': '1', 'o3Value': '0.038'}, {'so2Grade': '1', 'coFlag': None, 'khaiValue': '34', 'so2Value': '0.002', 'coValue': '0.3', 'pm25Flag': None, 'pm10Flag': None, 'o3Grade': '1', 'pm10Value': '9', 'khaiGrade': '1', 'pm25Value': '1', 'sidoName': '서울', 'no2Flag': None, 'no2Grade': '1', 'o3Flag': None, 'pm25Grade': '1', 'so2Flag': None, 'dataTime': '2025-09-13 21:00', 'coGrade': '1', 'no2Value': '0.013', 'stationName': '노원구', 'pm10Grade': '1', 'o3Value': '0.020'}, {'so2Grade': '1', 'coFlag': None, 'khaiValue': '38', 'so2Value': '0.002', 'coValue': '0.4', 'pm25Flag': None, 'pm10Flag': None, 'o3Grade': '1', 'pm10Value': '9', 'khaiGrade': '1', 'pm25Value': '5', 'sidoName': '서울', 'no2Flag': None, 'no2Grade': '1', 'o3Flag': None, 'pm25Grade': '1', 'so2Flag': None, 'dataTime': '2025-09-13 21:00', 'coGrade': '1', 'no2Value': '0.023', 'stationName': '화랑로', 'pm10Grade': '1', 'o3Value': '0.019'}], 'pageNo': 1, 'numOfRows': 100}, 'header': {'resultMsg': 'NORMAL_CODE', 'resultCode': '00'}}}\n"
          ]
        }
      ]
    },
    {
      "cell_type": "code",
      "source": [
        "import requests\n",
        "\n",
        "\n",
        "## 데이터 수집 url 및 api key 설정\n",
        "url = 'http://apis.data.go.kr/1613000/ApHusEnergyUseInfoOfferServiceV2/getWntyAvrgEnergyUseAmountInfoSearchV2'\n",
        "api_key = 'HH+mbrHQALE2UuDkUygMi+c2xKlF6r/ENEiA06GcgLrbzXljOVMC2oCm4GwzBGo7doxgRPjaShFMY9rm0ZrXHg=='\n",
        "## 2015년01월 ~ 2024년12월\n",
        "def get_search_date():\n",
        "    search_date = []\n",
        "    for year in range(2015, 2025):\n",
        "        for month in range(1, 13):\n",
        "            search_date.append(f'{year}{month:02d}')\n",
        "    return search_date\n",
        "\n",
        "responses = []\n",
        "\n",
        "for search_date in get_search_date():\n",
        "        params = {\n",
        "            'serviceKey': api_key,\n",
        "            'returnType': 'json',\n",
        "            'numOfRows': '100',\n",
        "            'pageNo': '1',\n",
        "            'searchDate': search_date,\n",
        "            'ver': '1.0'\n",
        "        }\n",
        "        response = requests.get(url, params=params)\n",
        "        if response.status_code == 200:\n",
        "            data = response.json()\n",
        "        # JSON에서 실제 데이터 추출\n",
        "            items = data.get('response', {}).get('body', {}).get('item', [])\n",
        "            if items:\n",
        "                responses.extend(items)  # 전체 데이터를 리스트에 저장\n",
        "                print(f\"{search_date} 호출 성공, 수집 건수: {len(items)}\")\n",
        "            else:\n",
        "                print(f\"{search_date} 호출 성공, 데이터 없음\")\n",
        "        else:\n",
        "            print(f\"{search_date} 호출 실패: {response.status_code}\")\n",
        "\n",
        "# 최종 수집된 데이터 개수 확인\n",
        "print(f\"총 수집 건수: {len(responses)}\")\n",
        "\n",
        "#        if response.status_code == 200:\n",
        "#           data = response.json()\n",
        "#            print('API 호출성공')\n",
        "#            print(response.json())\n",
        "#        else:\n",
        "#           print(f'API 호출 실패: {responses.status_code}')"
      ],
      "metadata": {
        "id": "9YGEEy6-x92W",
        "outputId": "566f00e6-9ead-424b-c03c-f7e76728cea4",
        "colab": {
          "base_uri": "https://localhost:8080/"
        }
      },
      "execution_count": 40,
      "outputs": [
        {
          "output_type": "stream",
          "name": "stdout",
          "text": [
            "201501 호출 성공, 수집 건수: 5\n",
            "201502 호출 성공, 수집 건수: 5\n",
            "201503 호출 성공, 수집 건수: 5\n",
            "201504 호출 성공, 수집 건수: 5\n",
            "201505 호출 성공, 수집 건수: 5\n",
            "201506 호출 성공, 수집 건수: 5\n",
            "201507 호출 성공, 수집 건수: 5\n",
            "201508 호출 성공, 수집 건수: 5\n",
            "201509 호출 성공, 수집 건수: 5\n",
            "201510 호출 성공, 수집 건수: 5\n",
            "201511 호출 성공, 수집 건수: 5\n",
            "201512 호출 성공, 수집 건수: 5\n",
            "201601 호출 성공, 수집 건수: 5\n",
            "201602 호출 성공, 수집 건수: 5\n",
            "201603 호출 성공, 수집 건수: 5\n",
            "201604 호출 성공, 수집 건수: 5\n",
            "201605 호출 성공, 수집 건수: 5\n",
            "201606 호출 성공, 수집 건수: 5\n",
            "201607 호출 성공, 수집 건수: 5\n",
            "201608 호출 성공, 수집 건수: 5\n",
            "201609 호출 성공, 수집 건수: 5\n",
            "201610 호출 성공, 수집 건수: 5\n",
            "201611 호출 성공, 수집 건수: 5\n",
            "201612 호출 성공, 수집 건수: 5\n",
            "201701 호출 성공, 수집 건수: 5\n",
            "201702 호출 성공, 수집 건수: 5\n",
            "201703 호출 성공, 수집 건수: 5\n",
            "201704 호출 성공, 수집 건수: 5\n",
            "201705 호출 성공, 수집 건수: 5\n",
            "201706 호출 성공, 수집 건수: 5\n",
            "201707 호출 성공, 수집 건수: 5\n",
            "201708 호출 성공, 수집 건수: 5\n",
            "201709 호출 성공, 수집 건수: 5\n",
            "201710 호출 성공, 수집 건수: 5\n",
            "201711 호출 성공, 수집 건수: 5\n",
            "201712 호출 성공, 수집 건수: 5\n",
            "201801 호출 성공, 수집 건수: 5\n",
            "201802 호출 성공, 수집 건수: 5\n",
            "201803 호출 성공, 수집 건수: 5\n",
            "201804 호출 성공, 수집 건수: 5\n",
            "201805 호출 성공, 수집 건수: 5\n",
            "201806 호출 성공, 수집 건수: 5\n",
            "201807 호출 성공, 수집 건수: 5\n",
            "201808 호출 성공, 수집 건수: 5\n",
            "201809 호출 성공, 수집 건수: 5\n",
            "201810 호출 성공, 수집 건수: 5\n",
            "201811 호출 성공, 수집 건수: 5\n",
            "201812 호출 성공, 수집 건수: 5\n",
            "201901 호출 성공, 수집 건수: 5\n",
            "201902 호출 성공, 수집 건수: 5\n",
            "201903 호출 성공, 수집 건수: 5\n",
            "201904 호출 성공, 수집 건수: 5\n",
            "201905 호출 성공, 수집 건수: 5\n",
            "201906 호출 성공, 수집 건수: 5\n",
            "201907 호출 성공, 수집 건수: 5\n",
            "201908 호출 성공, 수집 건수: 5\n",
            "201909 호출 성공, 수집 건수: 5\n",
            "201910 호출 성공, 수집 건수: 5\n",
            "201911 호출 성공, 수집 건수: 5\n",
            "201912 호출 성공, 수집 건수: 5\n",
            "202001 호출 성공, 수집 건수: 5\n",
            "202002 호출 성공, 수집 건수: 5\n",
            "202003 호출 성공, 수집 건수: 5\n",
            "202004 호출 성공, 수집 건수: 5\n",
            "202005 호출 성공, 수집 건수: 5\n",
            "202006 호출 성공, 수집 건수: 5\n",
            "202007 호출 성공, 수집 건수: 5\n",
            "202008 호출 성공, 수집 건수: 5\n",
            "202009 호출 성공, 수집 건수: 5\n",
            "202010 호출 성공, 수집 건수: 5\n",
            "202011 호출 성공, 수집 건수: 5\n",
            "202012 호출 성공, 수집 건수: 5\n",
            "202101 호출 성공, 수집 건수: 5\n",
            "202102 호출 성공, 수집 건수: 5\n",
            "202103 호출 성공, 수집 건수: 5\n",
            "202104 호출 성공, 수집 건수: 5\n",
            "202105 호출 성공, 수집 건수: 5\n",
            "202106 호출 성공, 수집 건수: 5\n",
            "202107 호출 성공, 수집 건수: 5\n",
            "202108 호출 성공, 수집 건수: 5\n",
            "202109 호출 성공, 수집 건수: 5\n",
            "202110 호출 성공, 수집 건수: 5\n",
            "202111 호출 성공, 수집 건수: 5\n",
            "202112 호출 성공, 수집 건수: 5\n",
            "202201 호출 성공, 수집 건수: 5\n",
            "202202 호출 성공, 수집 건수: 5\n",
            "202203 호출 성공, 수집 건수: 5\n",
            "202204 호출 성공, 수집 건수: 5\n",
            "202205 호출 성공, 수집 건수: 5\n",
            "202206 호출 성공, 수집 건수: 5\n",
            "202207 호출 성공, 수집 건수: 5\n",
            "202208 호출 성공, 수집 건수: 5\n",
            "202209 호출 성공, 수집 건수: 5\n",
            "202210 호출 성공, 수집 건수: 5\n",
            "202211 호출 성공, 수집 건수: 5\n",
            "202212 호출 성공, 수집 건수: 5\n",
            "202301 호출 성공, 수집 건수: 5\n",
            "202302 호출 성공, 수집 건수: 5\n",
            "202303 호출 성공, 수집 건수: 5\n",
            "202304 호출 성공, 수집 건수: 5\n",
            "202305 호출 성공, 수집 건수: 5\n",
            "202306 호출 성공, 수집 건수: 5\n",
            "202307 호출 성공, 수집 건수: 5\n",
            "202308 호출 성공, 수집 건수: 5\n",
            "202309 호출 성공, 수집 건수: 5\n",
            "202310 호출 성공, 수집 건수: 5\n",
            "202311 호출 성공, 수집 건수: 5\n",
            "202312 호출 성공, 수집 건수: 5\n",
            "202401 호출 성공, 수집 건수: 5\n",
            "202402 호출 성공, 수집 건수: 5\n",
            "202403 호출 성공, 수집 건수: 5\n",
            "202404 호출 성공, 수집 건수: 5\n",
            "202405 호출 성공, 수집 건수: 5\n",
            "202406 호출 성공, 수집 건수: 5\n",
            "202407 호출 성공, 수집 건수: 5\n",
            "202408 호출 성공, 수집 건수: 5\n",
            "202409 호출 성공, 수집 건수: 5\n",
            "202410 호출 성공, 수집 건수: 5\n",
            "202411 호출 성공, 수집 건수: 5\n",
            "202412 호출 성공, 수집 건수: 5\n",
            "총 수집 건수: 600\n"
          ]
        }
      ]
    },
    {
      "cell_type": "code",
      "source": [
        "response.json()"
      ],
      "metadata": {
        "id": "htGA6zqr-syP",
        "outputId": "e2fa3c20-d6ec-4c8b-8db8-add51274c63d",
        "colab": {
          "base_uri": "https://localhost:8080/"
        }
      },
      "execution_count": 38,
      "outputs": [
        {
          "output_type": "execute_result",
          "data": {
            "text/plain": [
              "{'response': {'body': {'item': {'heat': 514,\n",
              "    'waterHot': 155,\n",
              "    'gas': 3,\n",
              "    'elect': 711,\n",
              "    'waterCool': 241}},\n",
              "  'header': {'resultCode': '00', 'resultMsg': 'NORMAL SERVICE.'}}}"
            ]
          },
          "metadata": {},
          "execution_count": 38
        }
      ]
    },
    {
      "cell_type": "markdown",
      "source": [],
      "metadata": {
        "id": "l9Gu-BpIHcsl"
      }
    },
    {
      "cell_type": "code",
      "source": [
        "import pandas as pd\n",
        "## JSON 형태의 데이터를 pandas DataFrame으로 변환하고\n",
        "data = response.json()['response']['body']['item']\n",
        "df = pd.DataFrame([data])\n",
        "\n",
        "## 데이터의 기본 정보를 출력\n",
        "print(df.head())"
      ],
      "metadata": {
        "id": "quZ9vrF6O5VE",
        "outputId": "e077d409-cfc0-4d26-a63c-c36e46ef4b52",
        "colab": {
          "base_uri": "https://localhost:8080/"
        }
      },
      "execution_count": 39,
      "outputs": [
        {
          "output_type": "stream",
          "name": "stdout",
          "text": [
            "   heat  waterHot  gas  elect  waterCool\n",
            "0   514       155    3    711        241\n"
          ]
        }
      ]
    },
    {
      "cell_type": "code",
      "source": [
        "print(df.columns)"
      ],
      "metadata": {
        "id": "scdiUBuG9C2H",
        "outputId": "b94651b6-0cc8-41a6-dfd0-a44f698c98fb",
        "colab": {
          "base_uri": "https://localhost:8080/"
        }
      },
      "execution_count": 17,
      "outputs": [
        {
          "output_type": "stream",
          "name": "stdout",
          "text": [
            "Index(['heat', 'waterHot', 'gas', 'elect', 'waterCool'], dtype='object')\n"
          ]
        }
      ]
    },
    {
      "cell_type": "code",
      "source": [
        "df['date'] = pd.to_datetime(df['searchdate'], format='%Y%m')\n",
        "df['year'] = df['date'].dt.year\n",
        "def get_season(month):\n",
        "    if month in [3, 4, 5]:\n",
        "        return '봄'\n",
        "    elif month in [6, 7, 8]:\n",
        "        return '여름'\n",
        "    elif month in [9, 10, 11]:\n",
        "        return '가을'\n",
        "    else:\n",
        "        return '겨울'\n",
        "\n",
        "df['season'] = df['date'].dt.month.apply(get_season)\n",
        "print(df[['date', 'year', 'season']].head(12))"
      ],
      "metadata": {
        "id": "XOqXdMtx72pX",
        "outputId": "ee258191-7704-44c7-f7dd-5cdb2a3d3880",
        "colab": {
          "base_uri": "https://localhost:8080/",
          "height": 575
        }
      },
      "execution_count": 16,
      "outputs": [
        {
          "output_type": "error",
          "ename": "KeyError",
          "evalue": "'searchdate'",
          "traceback": [
            "\u001b[0;31m---------------------------------------------------------------------------\u001b[0m",
            "\u001b[0;31mKeyError\u001b[0m                                  Traceback (most recent call last)",
            "\u001b[0;32m/usr/local/lib/python3.12/dist-packages/pandas/core/indexes/base.py\u001b[0m in \u001b[0;36mget_loc\u001b[0;34m(self, key)\u001b[0m\n\u001b[1;32m   3804\u001b[0m         \u001b[0;32mtry\u001b[0m\u001b[0;34m:\u001b[0m\u001b[0;34m\u001b[0m\u001b[0;34m\u001b[0m\u001b[0m\n\u001b[0;32m-> 3805\u001b[0;31m             \u001b[0;32mreturn\u001b[0m \u001b[0mself\u001b[0m\u001b[0;34m.\u001b[0m\u001b[0m_engine\u001b[0m\u001b[0;34m.\u001b[0m\u001b[0mget_loc\u001b[0m\u001b[0;34m(\u001b[0m\u001b[0mcasted_key\u001b[0m\u001b[0;34m)\u001b[0m\u001b[0;34m\u001b[0m\u001b[0;34m\u001b[0m\u001b[0m\n\u001b[0m\u001b[1;32m   3806\u001b[0m         \u001b[0;32mexcept\u001b[0m \u001b[0mKeyError\u001b[0m \u001b[0;32mas\u001b[0m \u001b[0merr\u001b[0m\u001b[0;34m:\u001b[0m\u001b[0;34m\u001b[0m\u001b[0;34m\u001b[0m\u001b[0m\n",
            "\u001b[0;32mindex.pyx\u001b[0m in \u001b[0;36mpandas._libs.index.IndexEngine.get_loc\u001b[0;34m()\u001b[0m\n",
            "\u001b[0;32mindex.pyx\u001b[0m in \u001b[0;36mpandas._libs.index.IndexEngine.get_loc\u001b[0;34m()\u001b[0m\n",
            "\u001b[0;32mpandas/_libs/hashtable_class_helper.pxi\u001b[0m in \u001b[0;36mpandas._libs.hashtable.PyObjectHashTable.get_item\u001b[0;34m()\u001b[0m\n",
            "\u001b[0;32mpandas/_libs/hashtable_class_helper.pxi\u001b[0m in \u001b[0;36mpandas._libs.hashtable.PyObjectHashTable.get_item\u001b[0;34m()\u001b[0m\n",
            "\u001b[0;31mKeyError\u001b[0m: 'searchdate'",
            "\nThe above exception was the direct cause of the following exception:\n",
            "\u001b[0;31mKeyError\u001b[0m                                  Traceback (most recent call last)",
            "\u001b[0;32m/tmp/ipython-input-3527658415.py\u001b[0m in \u001b[0;36m<cell line: 0>\u001b[0;34m()\u001b[0m\n\u001b[0;32m----> 1\u001b[0;31m \u001b[0mdf\u001b[0m\u001b[0;34m[\u001b[0m\u001b[0;34m'date'\u001b[0m\u001b[0;34m]\u001b[0m \u001b[0;34m=\u001b[0m \u001b[0mpd\u001b[0m\u001b[0;34m.\u001b[0m\u001b[0mto_datetime\u001b[0m\u001b[0;34m(\u001b[0m\u001b[0mdf\u001b[0m\u001b[0;34m[\u001b[0m\u001b[0;34m'searchdate'\u001b[0m\u001b[0;34m]\u001b[0m\u001b[0;34m,\u001b[0m \u001b[0mformat\u001b[0m\u001b[0;34m=\u001b[0m\u001b[0;34m'%Y%m'\u001b[0m\u001b[0;34m)\u001b[0m\u001b[0;34m\u001b[0m\u001b[0;34m\u001b[0m\u001b[0m\n\u001b[0m\u001b[1;32m      2\u001b[0m \u001b[0mdf\u001b[0m\u001b[0;34m[\u001b[0m\u001b[0;34m'year'\u001b[0m\u001b[0;34m]\u001b[0m \u001b[0;34m=\u001b[0m \u001b[0mdf\u001b[0m\u001b[0;34m[\u001b[0m\u001b[0;34m'date'\u001b[0m\u001b[0;34m]\u001b[0m\u001b[0;34m.\u001b[0m\u001b[0mdt\u001b[0m\u001b[0;34m.\u001b[0m\u001b[0myear\u001b[0m\u001b[0;34m\u001b[0m\u001b[0;34m\u001b[0m\u001b[0m\n\u001b[1;32m      3\u001b[0m \u001b[0;32mdef\u001b[0m \u001b[0mget_season\u001b[0m\u001b[0;34m(\u001b[0m\u001b[0mmonth\u001b[0m\u001b[0;34m)\u001b[0m\u001b[0;34m:\u001b[0m\u001b[0;34m\u001b[0m\u001b[0;34m\u001b[0m\u001b[0m\n\u001b[1;32m      4\u001b[0m     \u001b[0;32mif\u001b[0m \u001b[0mmonth\u001b[0m \u001b[0;32min\u001b[0m \u001b[0;34m[\u001b[0m\u001b[0;36m3\u001b[0m\u001b[0;34m,\u001b[0m \u001b[0;36m4\u001b[0m\u001b[0;34m,\u001b[0m \u001b[0;36m5\u001b[0m\u001b[0;34m]\u001b[0m\u001b[0;34m:\u001b[0m\u001b[0;34m\u001b[0m\u001b[0;34m\u001b[0m\u001b[0m\n\u001b[1;32m      5\u001b[0m         \u001b[0;32mreturn\u001b[0m \u001b[0;34m'봄'\u001b[0m\u001b[0;34m\u001b[0m\u001b[0;34m\u001b[0m\u001b[0m\n",
            "\u001b[0;32m/usr/local/lib/python3.12/dist-packages/pandas/core/frame.py\u001b[0m in \u001b[0;36m__getitem__\u001b[0;34m(self, key)\u001b[0m\n\u001b[1;32m   4100\u001b[0m             \u001b[0;32mif\u001b[0m \u001b[0mself\u001b[0m\u001b[0;34m.\u001b[0m\u001b[0mcolumns\u001b[0m\u001b[0;34m.\u001b[0m\u001b[0mnlevels\u001b[0m \u001b[0;34m>\u001b[0m \u001b[0;36m1\u001b[0m\u001b[0;34m:\u001b[0m\u001b[0;34m\u001b[0m\u001b[0;34m\u001b[0m\u001b[0m\n\u001b[1;32m   4101\u001b[0m                 \u001b[0;32mreturn\u001b[0m \u001b[0mself\u001b[0m\u001b[0;34m.\u001b[0m\u001b[0m_getitem_multilevel\u001b[0m\u001b[0;34m(\u001b[0m\u001b[0mkey\u001b[0m\u001b[0;34m)\u001b[0m\u001b[0;34m\u001b[0m\u001b[0;34m\u001b[0m\u001b[0m\n\u001b[0;32m-> 4102\u001b[0;31m             \u001b[0mindexer\u001b[0m \u001b[0;34m=\u001b[0m \u001b[0mself\u001b[0m\u001b[0;34m.\u001b[0m\u001b[0mcolumns\u001b[0m\u001b[0;34m.\u001b[0m\u001b[0mget_loc\u001b[0m\u001b[0;34m(\u001b[0m\u001b[0mkey\u001b[0m\u001b[0;34m)\u001b[0m\u001b[0;34m\u001b[0m\u001b[0;34m\u001b[0m\u001b[0m\n\u001b[0m\u001b[1;32m   4103\u001b[0m             \u001b[0;32mif\u001b[0m \u001b[0mis_integer\u001b[0m\u001b[0;34m(\u001b[0m\u001b[0mindexer\u001b[0m\u001b[0;34m)\u001b[0m\u001b[0;34m:\u001b[0m\u001b[0;34m\u001b[0m\u001b[0;34m\u001b[0m\u001b[0m\n\u001b[1;32m   4104\u001b[0m                 \u001b[0mindexer\u001b[0m \u001b[0;34m=\u001b[0m \u001b[0;34m[\u001b[0m\u001b[0mindexer\u001b[0m\u001b[0;34m]\u001b[0m\u001b[0;34m\u001b[0m\u001b[0;34m\u001b[0m\u001b[0m\n",
            "\u001b[0;32m/usr/local/lib/python3.12/dist-packages/pandas/core/indexes/base.py\u001b[0m in \u001b[0;36mget_loc\u001b[0;34m(self, key)\u001b[0m\n\u001b[1;32m   3810\u001b[0m             ):\n\u001b[1;32m   3811\u001b[0m                 \u001b[0;32mraise\u001b[0m \u001b[0mInvalidIndexError\u001b[0m\u001b[0;34m(\u001b[0m\u001b[0mkey\u001b[0m\u001b[0;34m)\u001b[0m\u001b[0;34m\u001b[0m\u001b[0;34m\u001b[0m\u001b[0m\n\u001b[0;32m-> 3812\u001b[0;31m             \u001b[0;32mraise\u001b[0m \u001b[0mKeyError\u001b[0m\u001b[0;34m(\u001b[0m\u001b[0mkey\u001b[0m\u001b[0;34m)\u001b[0m \u001b[0;32mfrom\u001b[0m \u001b[0merr\u001b[0m\u001b[0;34m\u001b[0m\u001b[0;34m\u001b[0m\u001b[0m\n\u001b[0m\u001b[1;32m   3813\u001b[0m         \u001b[0;32mexcept\u001b[0m \u001b[0mTypeError\u001b[0m\u001b[0;34m:\u001b[0m\u001b[0;34m\u001b[0m\u001b[0;34m\u001b[0m\u001b[0m\n\u001b[1;32m   3814\u001b[0m             \u001b[0;31m# If we have a listlike key, _check_indexing_error will raise\u001b[0m\u001b[0;34m\u001b[0m\u001b[0;34m\u001b[0m\u001b[0m\n",
            "\u001b[0;31mKeyError\u001b[0m: 'searchdate'"
          ]
        }
      ]
    }
  ]
}